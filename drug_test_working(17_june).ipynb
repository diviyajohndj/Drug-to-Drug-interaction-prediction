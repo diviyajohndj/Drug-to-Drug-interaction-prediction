{
  "nbformat": 4,
  "nbformat_minor": 0,
  "metadata": {
    "colab": {
      "name": "Copy of drug_test_working(17-june).ipynb",
      "provenance": [],
      "collapsed_sections": [],
      "include_colab_link": true
    },
    "kernelspec": {
      "display_name": "Python 3",
      "name": "python3"
    },
    "language_info": {
      "name": "python"
    }
  },
  "cells": [
    {
      "cell_type": "markdown",
      "metadata": {
        "id": "view-in-github",
        "colab_type": "text"
      },
      "source": [
        "<a href=\"https://colab.research.google.com/github/diviyajohndj/Drug-to-Drug-interaction-prediction/blob/main/drug_test_working(17_june).ipynb\" target=\"_parent\"><img src=\"https://colab.research.google.com/assets/colab-badge.svg\" alt=\"Open In Colab\"/></a>"
      ]
    },
    {
      "cell_type": "markdown",
      "metadata": {
        "id": "srp1l11-w4wz"
      },
      "source": [
        "**Clone the file from github repository**."
      ]
    },
    {
      "cell_type": "code",
      "metadata": {
        "colab": {
          "base_uri": "https://localhost:8080/"
        },
        "id": "fkJoO7k7ihlN",
        "outputId": "c9f28b3b-0f54-4b4a-8d84-e63f28e7ac0d"
      },
      "source": [
        "repo_url= \"https://github.com/diviyajohndj/Drug-to-Drug-interaction-prediction\"\n",
        "import os\n",
        "\n",
        "%cd /content\n",
        "\n",
        "repo_dir_path = os.path.abspath(os.path.join('.', os.path.basename(repo_url)))\n",
        "\n",
        "!git clone {repo_url}\n",
        "%cd {repo_dir_path}\n",
        "!git pull"
      ],
      "execution_count": 435,
      "outputs": [
        {
          "output_type": "stream",
          "text": [
            "/content\n",
            "fatal: destination path 'Drug-to-Drug-interaction-prediction' already exists and is not an empty directory.\n",
            "/content/Drug-to-Drug-interaction-prediction\n",
            "Already up to date.\n"
          ],
          "name": "stdout"
        }
      ]
    },
    {
      "cell_type": "markdown",
      "metadata": {
        "id": "Wg4MihBVw-Vn"
      },
      "source": [
        "### **Required packages**"
      ]
    },
    {
      "cell_type": "code",
      "metadata": {
        "id": "RchJdQuzk_6i"
      },
      "source": [
        "#csv file read,write\n",
        "import pandas as pd\n",
        "#random, permutations\n",
        "import numpy as np\n",
        "import matplotlib.pyplot as plt\n",
        "%matplotlib inline\n",
        "import nltk\n",
        "from sklearn.feature_extraction.text import TfidfVectorizer\n",
        "#from sklearn.model_selection import cross_val_score\n",
        "from sklearn.model_selection  import GridSearchCV\n",
        "from sklearn.naive_bayes import MultinomialNB\n",
        "from sklearn.metrics import accuracy_score,mean_squared_error\n",
        "import gensim\n",
        "import spacy\n",
        "from spacy.symbols import nsubj, VERB\n",
        "from spacy.symbols import det\n",
        "\n",
        "#pipelines for model\n",
        "nlp = spacy.load('en')"
      ],
      "execution_count": 454,
      "outputs": []
    },
    {
      "cell_type": "markdown",
      "metadata": {
        "id": "OdpzBGbJx1Mz"
      },
      "source": [
        "Opening training and test data sets.\n",
        "\n",
        "\n",
        "\n"
      ]
    },
    {
      "cell_type": "code",
      "metadata": {
        "id": "bOI0LRlflM3o"
      },
      "source": [
        "train_data_f =\"main_training_binary_offsets.csv\"\n",
        "test_data_f =\"main_test_binary_offsets.csv\"\n",
        "#input drug\n",
        "idata_f=\"input.csv\"\n",
        "\n",
        "\n",
        "df_train = pd.read_csv(train_data_f,nrows=10000,low_memory=False)\n",
        "df_test = pd.read_csv(test_data_f,nrows=5000,low_memory=False)\n",
        "#input\n",
        "idata=pd.read_csv(idata_f)\n",
        "\n",
        "#same drug names filter\n",
        "df_train = df_train[df_train['drug1'] != df_train['drug2']]\n",
        "df_test = df_test[df_test['drug1'] != df_test['drug2']]\n",
        "#input\n",
        "idata=idata[idata['drug1']!=idata['drug2']]\n"
      ],
      "execution_count": 455,
      "outputs": []
    },
    {
      "cell_type": "code",
      "metadata": {
        "colab": {
          "base_uri": "https://localhost:8080/",
          "height": 285
        },
        "id": "zvKi1ERGlSuL",
        "outputId": "09e5c7ca-be75-4cc0-f7a6-7527809709e1"
      },
      "source": [
        "df_train.head()"
      ],
      "execution_count": 438,
      "outputs": [
        {
          "output_type": "execute_result",
          "data": {
            "text/html": [
              "<div>\n",
              "<style scoped>\n",
              "    .dataframe tbody tr th:only-of-type {\n",
              "        vertical-align: middle;\n",
              "    }\n",
              "\n",
              "    .dataframe tbody tr th {\n",
              "        vertical-align: top;\n",
              "    }\n",
              "\n",
              "    .dataframe thead th {\n",
              "        text-align: right;\n",
              "    }\n",
              "</style>\n",
              "<table border=\"1\" class=\"dataframe\">\n",
              "  <thead>\n",
              "    <tr style=\"text-align: right;\">\n",
              "      <th></th>\n",
              "      <th>sentenceid</th>\n",
              "      <th>sentence_text</th>\n",
              "      <th>drug_pair</th>\n",
              "      <th>ddi_label</th>\n",
              "      <th>drug1</th>\n",
              "      <th>drug2</th>\n",
              "      <th>drug1offset</th>\n",
              "      <th>drug2offset</th>\n",
              "      <th>drugsinsent</th>\n",
              "    </tr>\n",
              "  </thead>\n",
              "  <tbody>\n",
              "    <tr>\n",
              "      <th>0</th>\n",
              "      <td>DDI-DrugBank.d519.s3</td>\n",
              "      <td>Laboratory Tests Response to Plenaxis should b...</td>\n",
              "      <td>DDI-DrugBank.d519.s3.p0</td>\n",
              "      <td>0</td>\n",
              "      <td>Plenaxis</td>\n",
              "      <td>testosterone</td>\n",
              "      <td>29-36</td>\n",
              "      <td>83-94</td>\n",
              "      <td>Plenaxis,testosterone,</td>\n",
              "    </tr>\n",
              "    <tr>\n",
              "      <th>1</th>\n",
              "      <td>DDI-DrugBank.d297.s1</td>\n",
              "      <td>Population pharmacokinetic analyses revealed t...</td>\n",
              "      <td>DDI-DrugBank.d297.s1.p0</td>\n",
              "      <td>0</td>\n",
              "      <td>MTX</td>\n",
              "      <td>NSAIDs</td>\n",
              "      <td>50-52</td>\n",
              "      <td>55-60</td>\n",
              "      <td>MTX,NSAIDs,corticosteroids,TNF blocking agents...</td>\n",
              "    </tr>\n",
              "    <tr>\n",
              "      <th>2</th>\n",
              "      <td>DDI-DrugBank.d297.s1</td>\n",
              "      <td>Population pharmacokinetic analyses revealed t...</td>\n",
              "      <td>DDI-DrugBank.d297.s1.p1</td>\n",
              "      <td>0</td>\n",
              "      <td>MTX</td>\n",
              "      <td>corticosteroids</td>\n",
              "      <td>50-52</td>\n",
              "      <td>63-77</td>\n",
              "      <td>MTX,NSAIDs,corticosteroids,TNF blocking agents...</td>\n",
              "    </tr>\n",
              "    <tr>\n",
              "      <th>3</th>\n",
              "      <td>DDI-DrugBank.d297.s1</td>\n",
              "      <td>Population pharmacokinetic analyses revealed t...</td>\n",
              "      <td>DDI-DrugBank.d297.s1.p2</td>\n",
              "      <td>0</td>\n",
              "      <td>MTX</td>\n",
              "      <td>TNF blocking agents</td>\n",
              "      <td>50-52</td>\n",
              "      <td>84-102</td>\n",
              "      <td>MTX,NSAIDs,corticosteroids,TNF blocking agents...</td>\n",
              "    </tr>\n",
              "    <tr>\n",
              "      <th>4</th>\n",
              "      <td>DDI-DrugBank.d297.s1</td>\n",
              "      <td>Population pharmacokinetic analyses revealed t...</td>\n",
              "      <td>DDI-DrugBank.d297.s1.p3</td>\n",
              "      <td>0</td>\n",
              "      <td>MTX</td>\n",
              "      <td>abatacept</td>\n",
              "      <td>50-52</td>\n",
              "      <td>122-130</td>\n",
              "      <td>MTX,NSAIDs,corticosteroids,TNF blocking agents...</td>\n",
              "    </tr>\n",
              "  </tbody>\n",
              "</table>\n",
              "</div>"
            ],
            "text/plain": [
              "             sentenceid  ...                                        drugsinsent\n",
              "0  DDI-DrugBank.d519.s3  ...                             Plenaxis,testosterone,\n",
              "1  DDI-DrugBank.d297.s1  ...  MTX,NSAIDs,corticosteroids,TNF blocking agents...\n",
              "2  DDI-DrugBank.d297.s1  ...  MTX,NSAIDs,corticosteroids,TNF blocking agents...\n",
              "3  DDI-DrugBank.d297.s1  ...  MTX,NSAIDs,corticosteroids,TNF blocking agents...\n",
              "4  DDI-DrugBank.d297.s1  ...  MTX,NSAIDs,corticosteroids,TNF blocking agents...\n",
              "\n",
              "[5 rows x 9 columns]"
            ]
          },
          "metadata": {
            "tags": []
          },
          "execution_count": 438
        }
      ]
    },
    {
      "cell_type": "code",
      "metadata": {
        "colab": {
          "base_uri": "https://localhost:8080/"
        },
        "id": "KZDZi2IOlXom",
        "outputId": "86b1e9d6-7694-45f6-afe3-6839f5decbab"
      },
      "source": [
        "print(\"Length of train dataset: \", df_train.shape)\n",
        "print(\"Number of drug paris with no affect on each other: \", df_train.loc[df_train['ddi_label'] == 0].shape)\n",
        "print(\"Number of drug pairs that do affect each other: \", df_train.loc[df_train['ddi_label'] == 1].shape)\n",
        "\n",
        "print(\"\\nLength of test dataset: \", df_test.shape)\n",
        "print(\"Number of drug paris with no affect on each other: \", df_test.loc[df_test['ddi_label'] == 0].shape)\n",
        "print(\"Number of drug pairs that do affect each other: \", df_test.loc[df_test['ddi_label'] == 1].shape)"
      ],
      "execution_count": 456,
      "outputs": [
        {
          "output_type": "stream",
          "text": [
            "Length of train dataset:  (9564, 9)\n",
            "Number of drug paris with no affect on each other:  (7857, 9)\n",
            "Number of drug pairs that do affect each other:  (1707, 9)\n",
            "\n",
            "Length of test dataset:  (4785, 9)\n",
            "Number of drug paris with no affect on each other:  (3968, 9)\n",
            "Number of drug pairs that do affect each other:  (817, 9)\n"
          ],
          "name": "stdout"
        }
      ]
    },
    {
      "cell_type": "markdown",
      "metadata": {
        "id": "lBWV_21Xymaq"
      },
      "source": [
        "The dataset is very uneven. We might be overfitting. Undersample the data."
      ]
    },
    {
      "cell_type": "code",
      "metadata": {
        "id": "ZLOIjLI_mENL"
      },
      "source": [
        "def create_train_dev_test(df):\n",
        "    random_index = np.random.permutation(df.index)\n",
        "    df_shuffled = df.loc[random_index]\n",
        "    df_shuffled.reset_index(drop=True, inplace=True)\n",
        "    rows, columns =  df_shuffled.shape\n",
        "    train_size = round(rows*.2)\n",
        "    dev_size   = round(rows*.4)\n",
        "    df_train = df_shuffled.loc[:train_size]\n",
        "    df_dev = df_shuffled.loc[train_size:dev_size+train_size].reset_index(drop=True)\n",
        "    return df_train, df_dev\n",
        "\n",
        "#random picking of no-interaction rows from datasets\n",
        "df_train.loc[df_train['ddi_label'] == 0].head()\n",
        "df_train_no_interact, df_dev = create_train_dev_test(df_train.loc[df_train['ddi_label'] == 0])"
      ],
      "execution_count": 457,
      "outputs": []
    },
    {
      "cell_type": "code",
      "metadata": {
        "colab": {
          "base_uri": "https://localhost:8080/"
        },
        "id": "CPkj-sGemWgA",
        "outputId": "876d268e-17ad-47a9-d981-46272ac58d5e"
      },
      "source": [
        "frames = [df_train_no_interact,df_train.loc[df_train['ddi_label'] == 1]]\n",
        "\n",
        "\n",
        "df_train = pd.concat(frames)\n",
        "df_train=df_train.sample(frac=1)\n",
        "print(\"Shape of the dataset:\",df_train.shape)\n",
        "\n",
        "print(\"Number of drug paris with no affect on each other: \", df_train.loc[df_train['ddi_label'] == 0].shape)\n",
        "print(\"Number of drug pairs that do affect each other: \", df_train.loc[df_train['ddi_label'] == 1].shape)"
      ],
      "execution_count": 458,
      "outputs": [
        {
          "output_type": "stream",
          "text": [
            "Shape of the dataset: (3279, 9)\n",
            "Number of drug paris with no affect on each other:  (1572, 9)\n",
            "Number of drug pairs that do affect each other:  (1707, 9)\n"
          ],
          "name": "stdout"
        }
      ]
    },
    {
      "cell_type": "code",
      "metadata": {
        "colab": {
          "base_uri": "https://localhost:8080/"
        },
        "id": "gncTg9Szm_ku",
        "outputId": "49dbe443-991b-4fa3-bc1a-ceb3ec284cf0"
      },
      "source": [
        "import nltk\n",
        "#tokenize sentences\n",
        "nltk.download('punkt')"
      ],
      "execution_count": 442,
      "outputs": [
        {
          "output_type": "stream",
          "text": [
            "[nltk_data] Downloading package punkt to /root/nltk_data...\n",
            "[nltk_data]   Package punkt is already up-to-date!\n"
          ],
          "name": "stdout"
        },
        {
          "output_type": "execute_result",
          "data": {
            "text/plain": [
              "True"
            ]
          },
          "metadata": {
            "tags": []
          },
          "execution_count": 442
        }
      ]
    },
    {
      "cell_type": "markdown",
      "metadata": {
        "id": "Ou-a0uNByysa"
      },
      "source": [
        "Create training and development sets."
      ]
    },
    {
      "cell_type": "code",
      "metadata": {
        "id": "jBW3yKOmmYk2"
      },
      "source": [
        "triggers = []\n",
        "with open(\"/content/Drug-to-Drug-interaction-prediction/triggers.txt\") as f:\n",
        "    for line in f:\n",
        "        \n",
        "        if line!=\"\":\n",
        "          triggers.append(line)\n",
        "trigger_words = set(triggers)\n",
        "\n",
        "negative_words = ['No', 'not', 'neither', 'without', 'lack', 'fail', \n",
        "                  'unable', 'abrogate', 'absence', 'prevent', \n",
        "                  'unlikely', 'unchanged', 'rarely']\n",
        "\n",
        "negative_words = set(negative_words)\n",
        "\n",
        "def tokenize(sentence_df):\n",
        "    sent_tokenizer = nltk.data.load('tokenizers/punkt/english.pickle')\n",
        "    sentences = [sentence for sentence in sentence_df]\n",
        "    words_in_sents = [nltk.word_tokenize(sent) for sent in sentences]\n",
        "    return words_in_sents\n",
        "#tokenize each sentence text \n",
        "words_in_sents = tokenize(df_train['sentence_text'])\n",
        "#embedding to word2vwec\n",
        "ddi_embedding_model = gensim.models.Word2Vec(words_in_sents)\n",
        "ddi_embedding_model.save('ddi.embedding')\n",
        "new_model = gensim.models.Word2Vec.load('ddi.embedding')\n",
        "\n",
        "\n",
        "\n",
        "\n",
        "\n"
      ],
      "execution_count": 443,
      "outputs": []
    },
    {
      "cell_type": "markdown",
      "metadata": {
        "id": "T97y-CvqzFZL"
      },
      "source": [
        "\n",
        "**Define Feature Functions**\n",
        "\n"
      ]
    },
    {
      "cell_type": "code",
      "metadata": {
        "id": "q7mgDmeknRtT"
      },
      "source": [
        "def negation_count(x, row):\n",
        "    \"\"\"counts total no, not and n't in the sentence \"\"\" \n",
        "    sent = row['sentence_text']\n",
        "    count = 0\n",
        "    for word in nltk.word_tokenize(sent):\n",
        "        if word == 'not' or word == 'no' or word[-3:] == \"n't\":\n",
        "            count += 1\n",
        "    return count\n",
        "\n",
        "def negation_count2(x, row):\n",
        "    \"\"\" gives how many negative words in each segment\"\"\"\n",
        "    count = 0\n",
        "    drug1_i = row['drug1offset'].split('-')\n",
        "    drug2_i = row['drug2offset'].split('-')\n",
        "    sentence = row['sentence_text']\n",
        "    before_count=0\n",
        "    middle_count=0\n",
        "    end_count=0\n",
        "    first_phrase=\"\"\n",
        "    mid_phrase=\"\"\n",
        "    end_phrase=\"\"\n",
        "    try:\n",
        "      first_phrase = sentence[0:int(drug1_i[0])].split()\n",
        "      mid_phrase = sentence[int(float(drug1_i[-1]))+1:int(drug2_i[0])].split()\n",
        "      end_phrase = sentence[int(float(drug2_i[-1]))+1:].split()\n",
        "      before_count = len(set(first_phrase) & negative_words)\n",
        "      middle_count = len(set(mid_phrase) & negative_words)\n",
        "      end_count = len(set(end_phrase) & negative_words)\n",
        "\n",
        "    except ValueError:\n",
        "      print(\"\")\n",
        "    return before_count, middle_count, end_count\n",
        "    \n",
        "\n",
        "def trigger_count(x, row):\n",
        "    \"\"\" total number of trigger words \"\"\"\n",
        "    sent = row['sentence_text']\n",
        "    count = 0\n",
        "    for word in nltk.word_tokenize(sent.lower()):\n",
        "        if word in triggers:\n",
        "            count += 1\n",
        "    return count\n",
        "\n",
        "def trigger_count2(x, row):\n",
        "    ''' counts number of trigger words in each segment '''\n",
        "    count = 0\n",
        "    drug1_i = row['drug1offset'].split('-')\n",
        "    drug2_i = row['drug2offset'].split('-')\n",
        "    sentence = row['sentence_text']\n",
        "    first_phrase =\"\"\n",
        "    mid_phrase=\"\"\n",
        "    end_phrase=\"\"\n",
        "    try:\n",
        "      first_phrase = sentence[0:int(drug1_i[0])].split()\n",
        "      mid_phrase = sentence[int(float(drug1_i[-1]))+1:int(drug2_i[0])].split()\n",
        "      end_phrase = sentence[int(float(drug2_i[-1]))+1:].split()\n",
        "    except ValueError:\n",
        "      print(\"\")\n",
        "      #print(\"Value error in trigger_count2\")\n",
        "      #print(\"inside exception In trigger_count 2 first coubt, mid,end:\",first_phrase,mid_phrase,end_phrase)\n",
        "    before_count = len(set(first_phrase))# & trigger_words)\n",
        "    middle_count = len(set(mid_phrase))# & trigger_words)\n",
        "    end_count = len(set(end_phrase))# & trigger_words)\n",
        "    #print(\"with and wthout excep: sentance:\",sentence)\n",
        "    #print(\"In trigger_count 2 first coubt, mid,end:\",first_phrase,mid_phrase,end_phrase)\n",
        "    #print(\"passing befor_count,middle_count,end_count\",before_count,middle_count,end_count)\n",
        "    return before_count, middle_count, end_count\n",
        "\n",
        "def ultra_trigger(x, row):\n",
        "    ''' counts ultra-trigger words '''\n",
        "    sent = row['sentence_text']\n",
        "    words = ['coadministration', 'concomitant', 'concomitantly']\n",
        "    count = 0\n",
        "    for word in words:\n",
        "        if word in nltk.word_tokenize(sent.lower()):\n",
        "            count += 1\n",
        "    return count\n",
        "        \n",
        "def words_sep_by_and(x, row):\n",
        "    ''' binary feature if drugs are seperated only by and, not used '''\n",
        "    sent = row['sentence_text']\n",
        "    d1 = row['drug1']\n",
        "    d2 = row['drug2']\n",
        "    sent = sent.replace(d1, 'drug1')\n",
        "    sent = sent.replace(d2, 'drug2')\n",
        "    words = nltk.word_tokenize(sent)\n",
        "    if abs(words.index('drug1') - words.index('drug2')) < 3:\n",
        "        if words[words.index('drug1') + words.index('drug2')/2] == 'and':\n",
        "            return 1\n",
        "    return 0\n",
        "\n",
        "def key_phrase(x, row):\n",
        "    ''' binary feature that checks for key phrases, listed below'''\n",
        "    sent = row['sentence_text']\n",
        "    d1 = row['drug1']\n",
        "    d2 = row['drug2']\n",
        "    sent = sent.replace(d1, 'drug1')\n",
        "    sent = sent.replace(d2, 'drug2')\n",
        "    phrases = ['concurrent administration of drug1 and drug2', 'drug1 concurrently with drug2',\n",
        "            'co-administration of drug1 and drug2', 'coadministration of drug1 and drug2', \n",
        "               'concurrent use of drug1 and drug2',]\n",
        "    for phrase in phrases:\n",
        "        if phrase in sent.lower():\n",
        "            return 1\n",
        "    return 0\n",
        "    \n",
        "def num_words_between_drugs(x,row):\n",
        "    ''' counts number of words between drug mentions '''\n",
        "    drug1_i = row['drug1offset'].split('-')\n",
        "    drug2_i = row['drug2offset'].split('-')\n",
        "    sentence = row['sentence_text']\n",
        "    pre_phrase=\"\"\n",
        "    try:\n",
        "      pre_phrase = sentence[int(float(drug1_i[-1]))+1:int(float(drug2_i[0]))].split()\n",
        "    except ValueError:\n",
        "      print(\"\")\n",
        "    return len(pre_phrase)\n",
        "\n",
        "def num_drugs_between_drugs(x, row):\n",
        "    ''' counts number of drugs between drug mentions '''\n",
        "    drug1_i = row['drug1offset'].split('-')\n",
        "    drug2_i = row['drug2offset'].split('-')\n",
        "    sentence = row['sentence_text']\n",
        "    pre_phrase=\"\"\n",
        "    try:\n",
        "\n",
        "      pre_phrase = sentence[int(float(drug1_i[-1]))+1:int(float(drug2_i[0]))]\n",
        "    except ValueError:\n",
        "      print(\"\")\n",
        "    list_of_drugs = row['drugsinsent'].split(\",\")[0:-1]\n",
        "    drugs_in_bet = 0\n",
        "    for drug in list_of_drugs:\n",
        "        drug_split = drug.split()\n",
        "        if(pre_phrase.find(drug_split[0]) != -1):\n",
        "            drugs_in_bet += 1\n",
        "\n",
        "    return drugs_in_bet\n",
        "\n",
        "def verb_count(x, row):\n",
        "    '''counts number of verbs in each segment '''\n",
        "    pattern = r'''(?x)     \n",
        "    ([A-Z]\\.)+                       # abbrevations\n",
        "    |\\w+'\\w+                         # contractions\n",
        "    | \\w+(?:(-|(\\.\\s))(\\n)?\\w+)*     # words w/ internal hyphens, extend to next line, and with periods like Mrs. Reed\n",
        "    '''\n",
        "    count = 0\n",
        "    drug1_i = row['drug1offset'].split('-')\n",
        "    drug2_i = row['drug2offset'].split('-')\n",
        "    sentence = row['sentence_text']\n",
        "    first_phrase=\"\"\n",
        "    mid_phrase=\"\"\n",
        "    end_phrase=\"\"\n",
        "    try:\n",
        "      first_phrase= nltk.pos_tag(nltk.word_tokenize(sentence[0:int(drug1_i[0])]))\n",
        "      mid_phrase = nltk.pos_tag(nltk.word_tokenize(sentence[int(drug1_i[-1])+1:int(drug2_i[0])]))\n",
        "      end_phrase = nltk.pos_tag(nltk.word_tokenize(sentence[int(drug2_i[-1])+1:]))\n",
        "    except ValueError:\n",
        "      print(\"\")\n",
        "    before_count, middle_count, end_count = 0,0,0\n",
        "    for tag in first_phrase:\n",
        "        if tag[1].startswith('V'):\n",
        "            before_count += 1\n",
        "    for tag in mid_phrase:\n",
        "        if tag[1].startswith('V'):\n",
        "            middle_count += 1\n",
        "    for tag in end_phrase:\n",
        "        if tag[1].startswith('V'):\n",
        "            end_count += 1\n",
        "    return before_count, middle_count, end_count\n",
        "\n",
        "def dist(idx, enum_list):\n",
        "    '''helper function for trig_dist '''\n",
        "    dif = [abs(idx-num) for num,word in enum_list]\n",
        "    if len(dif) == 0:\n",
        "        return 0\n",
        "    else:\n",
        "        return min(dif)\n",
        "    \n",
        "def trig_dist(x, row):\n",
        "    '''counts distance from both drug mentions to closest trigger'''\n",
        "    sentence = row['sentence_text']\n",
        "    sentence = sentence.replace(row['drug1'], 'drug1')\n",
        "    sentence = sentence.replace(row['drug2'], 'drug2')\n",
        "    words = nltk.word_tokenize(sentence)\n",
        "    \n",
        "    try:\n",
        "        drug1_i = words.index('drug1')\n",
        "    except:\n",
        "        drug1_i = 0\n",
        "    try:\n",
        "        drug2_i = words.index('drug2')\n",
        "    except:\n",
        "        drug2_i = 0\n",
        "    enum_words = list(enumerate(words))\n",
        "    enum_trigs = [(num,word) for num, word in enum_words if word in trigger_words]\n",
        "    \n",
        "    return dist(drug1_i, enum_trigs), dist(drug2_i, enum_trigs)\n",
        "\n",
        "def subj_obj(x, row):\n",
        "    '''binary feature that checks if drug1 is the nsubj or in its subtree \n",
        "    and if drug2 is dobj or in its subtree, returns 1 if both, 0 otherwise'''\n",
        "    d1, d2 = row['drug1'],row['drug2']\n",
        "    sent = row['sentence_text'].replace(d1,'drug1').replace(d2,'drug2')\n",
        "    doc = nlp(sent)\n",
        "    roots = [r for r in doc if r.head is r and r.pos == VERB] #and r.text in trigger_words]\n",
        "    d1 = [d for d in doc if d.text == 'drug1']\n",
        "    d2 = [d for d in doc if d.text == 'drug2']\n",
        "\n",
        "    flag1 = False\n",
        "    flag2 = False\n",
        "    for r in roots:\n",
        "        subj = [s for s in r.children if s.dep_[:5] == 'nsubj']\n",
        "        obj = [o for o in r.children if o.dep_[:4] == 'dobj']\n",
        "        for s in subj:\n",
        "            if 'drug1' == s.text:\n",
        "                flag1 = True\n",
        "            for s1 in s.subtree:\n",
        "                if s1.text == 'drug1':\n",
        "                    flag1 = True\n",
        "        for o in obj:\n",
        "            if 'drug2' == o.text:\n",
        "                flag2 = True\n",
        "            for o1 in o.subtree:\n",
        "                if o1.text == 'drug2':\n",
        "                    flag2 = True\n",
        "    if flag1 and flag2:\n",
        "        return 1\n",
        "    else:\n",
        "        return 0\n",
        "    \n",
        "def trig_in_path(x, row):\n",
        "    ''' binary feature if theres a trigger word in dep path to root '''\n",
        "    d1, d2 = row['drug1'],row['drug2']\n",
        "    \n",
        "    sent = row['sentence_text'].replace(d1,'drug1').replace(d2,'drug2')\n",
        "    doc = nlp(sent)\n",
        "    #print(\"doc::::\",doc)\n",
        "    drugs = [d for d in doc if d.text == 'drug1' or d.text == 'drug2']\n",
        "    #print(\"Printin drus : \",drugs)\n",
        "    for d in drugs:\n",
        "        #print(\"for loop for trig_path\")\n",
        "        #print(\"d befoe:\",d)\n",
        "        d = d.head\n",
        "        #print(\"Printin drus d value after d.head: \",d)\n",
        "        \n",
        "        while d.head is not d:\n",
        "            #print(\"entered while\")\n",
        "            if d.text in trigger_words:\n",
        "               print(\"return 1\")\n",
        "               return 1\n",
        "            else:\n",
        "                #print(\"change -- d:\",d)\n",
        "                d = d.head\n",
        "                #print(\"change -- d after:\",d)\n",
        "            if d.head==d :\n",
        "                return 0\n",
        "    return 0\n",
        "    \n",
        "def both_head(x, row):\n",
        "    ''' checks if the head of both drug mentions is the same '''\n",
        "    d1, d2 = row['drug1'],row['drug2']\n",
        "    sent = row['sentence_text'].replace(d1,'drug1').replace(d2,'drug2')\n",
        "    doc = nlp(sent)\n",
        "    #roots = [r for r in doc if r.head is r and r.pos == VERB and r.text in trigger_words]\n",
        "    drugs = [d for d in doc if d.text == 'drug1' or d.text == 'drug2']\n",
        "    if  len(drugs) < 2:\n",
        "        return 0\n",
        "    if drugs[0].head == drugs[1].head: #and drugs[0].head.pos ==VERB:\n",
        "        return 1\n",
        "    return 0\n",
        "\n",
        "def verb_vect(x, row):\n",
        "    '''counts number of verbs in each segment '''\n",
        "    \n",
        "    sentence = row['sentence_text']\n",
        "    words = nltk.word_tokenize(sentence)\n",
        "    pos_words = nltk.pos_tag(words)\n",
        "    \n",
        "    try:\n",
        "        drug1_i = words.index(row['drug1'])\n",
        "        drug2_i = words.index(row['drug2'])\n",
        "    except:\n",
        "        return 0.0, 0.0, 0.0\n",
        "   \n",
        "    bef_verb = 0.0\n",
        "    try:\n",
        "        for i in range(drug1_i,0, -1):\n",
        "            if pos_words[i][1].startswith('V') or pos_words[i][1].startswith('N'):\n",
        "                bef_verb = np.mean(ddi_embedding_model[pos_words[i][0]])\n",
        "                break\n",
        "    except:\n",
        "        bef_verb = 0.0\n",
        "            \n",
        "    bet_verb = 0.0\n",
        "    try:\n",
        "        for i in range(drug2_i,drug1_i, -1):\n",
        "            if pos_words[i][1].startswith('V') or pos_words[i][1].startswith('N'):\n",
        "                bet_verb = np.mean(ddi_embedding_model[pos_words[i][0]])\n",
        "                break\n",
        "    except:\n",
        "        bet_verb = 0.0\n",
        "            \n",
        "            \n",
        "    aft_verb = 0.0   \n",
        "    try:\n",
        "        for i in range(drug2_i, len(pos_words)):\n",
        "            if pos_words[i][1].startswith('V') or pos_words[i][1].startswith('N'):\n",
        "                aft_verb = np.mean(ddi_embedding_model[pos_words[i][0]])\n",
        "                break\n",
        "    except:\n",
        "        aft_verb = 0.0\n",
        "\n",
        "    return bef_verb, bet_verb, aft_verb\n"
      ],
      "execution_count": 444,
      "outputs": []
    },
    {
      "cell_type": "code",
      "metadata": {
        "id": "zp4cgMZKnqfO"
      },
      "source": [
        "def build_features(df):\n",
        "    c=0\n",
        "    \n",
        "\n",
        "    list_of_features = []\n",
        "    negation_count_l = []\n",
        "    trigger_count_l = []\n",
        "    ultra_trigger_l = []\n",
        "    subj_obj_l = []\n",
        "    both_head_l = []\n",
        "    trig_in_path_l = []\n",
        "    for index, row in df.iterrows():\n",
        "        negation_count_l.append(negation_count(index,row))\n",
        "        trigger_count_l.append(trigger_count(index,row))\n",
        "        ultra_trigger_l.append(ultra_trigger(index,row))\n",
        "        subj_obj_l.append(subj_obj(index,row))\n",
        "        both_head_l.append(both_head(index,row))\n",
        "        trig_in_path_l.append(trig_in_path(index,row))\n",
        "        \n",
        "    list_of_features.append(negation_count_l)\n",
        "    list_of_features.append(trigger_count_l)\n",
        "    list_of_features.append(ultra_trigger_l)\n",
        "    list_of_features.append(subj_obj_l)\n",
        "    list_of_features.append(both_head_l)\n",
        "    list_of_features.append(trig_in_path_l)\n",
        "\n",
        "    drugs_between_drugs = []\n",
        "    words_between_drugs = []\n",
        "    for index, row in df.iterrows():\n",
        "        drugs_between_drugs.append(num_drugs_between_drugs(index,row))\n",
        "        words_between_drugs.append(num_words_between_drugs(index,row))\n",
        "    list_of_features.append(drugs_between_drugs)\n",
        "    list_of_features.append(words_between_drugs)\n",
        "    \n",
        "    #words_sep_by_and_l = []\n",
        "    #key_phrase_l = []\n",
        "    #for index, row in df.iterrows():\n",
        "        #words_sep_by_and_l.append(words_sep_by_and(index,row))\n",
        "        #key_phrase_l.append(key_phrase(index,row))\n",
        "    #list_of_features.append(words_sep_by_and_l)\n",
        "    #list_of_features.append(key_phrase_l)\n",
        "    \n",
        "    btg, betg, atg = [], [], []\n",
        "    for index, row in df.iterrows():\n",
        "        before, between, after = trigger_count2(index,row)\n",
        "        btg.append(before)\n",
        "        betg.append(between)\n",
        "        atg.append(after)\n",
        "    list_of_features.append(btg)\n",
        "    list_of_features.append(betg)\n",
        "    list_of_features.append(atg)\n",
        "   \n",
        "    n_btg, n_betg, n_atg = [], [], []\n",
        "    for index, row in df.iterrows():\n",
        "        before, between, after = negation_count2(index,row)\n",
        "        n_btg.append(before)\n",
        "        n_betg.append(between)\n",
        "        n_atg.append(after)\n",
        "    list_of_features.append(n_btg)\n",
        "    list_of_features.append(n_betg)\n",
        "    list_of_features.append(n_atg)\n",
        "    \n",
        "    v_btg, v_betg, v_atg = [], [], []\n",
        "    for index, row in df.iterrows():\n",
        "        before, between, after = verb_count(index,row)\n",
        "        v_btg.append(before)\n",
        "        v_betg.append(between)\n",
        "        v_atg.append(after)\n",
        "    list_of_features.append(v_btg)\n",
        "    list_of_features.append(v_betg)\n",
        "    list_of_features.append(v_atg)\n",
        "    \n",
        "    word2vec_b, word2vec_bet, word2vec_a = [], [], []\n",
        "    for index, row in df.iterrows():\n",
        "        verb_bef, verb_bet, verb_aft = verb_vect(index, row)\n",
        "        word2vec_b.append(verb_bef)\n",
        "        word2vec_bet.append(verb_bet)\n",
        "        word2vec_a.append(verb_aft)\n",
        "        \n",
        "    list_of_features.append(word2vec_b)\n",
        "    list_of_features.append(word2vec_bet)\n",
        "    list_of_features.append(word2vec_a)\n",
        "\n",
        "    \n",
        "    return list_of_features"
      ],
      "execution_count": 445,
      "outputs": []
    },
    {
      "cell_type": "code",
      "metadata": {
        "id": "Cof29uS9n2c6"
      },
      "source": [
        "#read\n",
        "vec = TfidfVectorizer(ngram_range=(1, 2), max_df=0.8)\n",
        "\n",
        "arr_train_feature_sparse = vec.fit_transform(df_train['sentence_text'])\n",
        "arr_train_feature = arr_train_feature_sparse.toarray()\n",
        "\n",
        "\n",
        "arr_test_feature_sparse = vec.transform(df_test[\"sentence_text\"])\n",
        "arr_test_feature = arr_test_feature_sparse.toarray()\n",
        "\n"
      ],
      "execution_count": 446,
      "outputs": []
    },
    {
      "cell_type": "code",
      "metadata": {
        "id": "v6gKAQgprsAG"
      },
      "source": [
        "def convert_to_numpy(list_):\n",
        "    x = np.asarray(list_)\n",
        "    y = x.reshape(-1, 1)\n",
        "    return y\n",
        "\n",
        "def create_feature_set(mainset,features):\n",
        "    count=0\n",
        "    for list_f in features:\n",
        "        count=count+1\n",
        "        \n",
        "        mainset = np.append(mainset, convert_to_numpy(list_f), axis=1)\n",
        "    return mainset"
      ],
      "execution_count": 447,
      "outputs": []
    },
    {
      "cell_type": "code",
      "metadata": {
        "colab": {
          "base_uri": "https://localhost:8080/"
        },
        "id": "mwN-HjEaJ2yQ",
        "outputId": "659656aa-3438-489f-c217-f3d68ab7c729"
      },
      "source": [
        "import nltk\n",
        "nltk.download('averaged_perceptron_tagger')"
      ],
      "execution_count": 448,
      "outputs": [
        {
          "output_type": "stream",
          "text": [
            "[nltk_data] Downloading package averaged_perceptron_tagger to\n",
            "[nltk_data]     /root/nltk_data...\n",
            "[nltk_data]   Package averaged_perceptron_tagger is already up-to-\n",
            "[nltk_data]       date!\n"
          ],
          "name": "stdout"
        },
        {
          "output_type": "execute_result",
          "data": {
            "text/plain": [
              "True"
            ]
          },
          "metadata": {
            "tags": []
          },
          "execution_count": 448
        }
      ]
    },
    {
      "cell_type": "code",
      "metadata": {
        "colab": {
          "base_uri": "https://localhost:8080/"
        },
        "id": "THpTA0u1rwzj",
        "outputId": "076a27b1-0850-4a08-9fef-1e33951b688c"
      },
      "source": [
        "train_feature_list = build_features(df_train)\n",
        "\n",
        "#print(\"train_feature_list:\",train_feature_list)\n",
        "train_feature_set = create_feature_set(arr_train_feature, train_feature_list)\n",
        "#print(\"Train_feature_set:\",train_feature_set)\n",
        "test_feature_list = build_features(df_test)\n",
        "test_feature_set = create_feature_set(arr_test_feature, test_feature_list)\n",
        "\n",
        "test_feature_list1 = build_features(idata)\n",
        "test_feature_set1 = create_feature_set(arr_test_feature1, test_feature_list1)"
      ],
      "execution_count": 449,
      "outputs": [
        {
          "output_type": "stream",
          "text": [
            "/usr/local/lib/python3.7/dist-packages/ipykernel_launcher.py:289: DeprecationWarning: Call to deprecated `__getitem__` (Method will be removed in 4.0.0, use self.wv.__getitem__() instead).\n",
            "/usr/local/lib/python3.7/dist-packages/ipykernel_launcher.py:298: DeprecationWarning: Call to deprecated `__getitem__` (Method will be removed in 4.0.0, use self.wv.__getitem__() instead).\n",
            "/usr/local/lib/python3.7/dist-packages/ipykernel_launcher.py:308: DeprecationWarning: Call to deprecated `__getitem__` (Method will be removed in 4.0.0, use self.wv.__getitem__() instead).\n"
          ],
          "name": "stderr"
        },
        {
          "output_type": "stream",
          "text": [
            "\n",
            "\n",
            "\n",
            "\n",
            "\n",
            "\n",
            "\n",
            "\n",
            "\n",
            "\n",
            "\n",
            "\n",
            "\n",
            "\n",
            "\n",
            "\n",
            "\n",
            "\n",
            "\n",
            "\n",
            "\n",
            "\n",
            "\n",
            "\n",
            "\n",
            "\n",
            "\n",
            "\n"
          ],
          "name": "stdout"
        }
      ]
    },
    {
      "cell_type": "code",
      "metadata": {
        "id": "YnXlAVi5cdxB"
      },
      "source": [
        "from sklearn.ensemble import AdaBoostClassifier\n",
        "from sklearn.neighbors import KNeighborsClassifier\n",
        "from sklearn.linear_model import LogisticRegression\n",
        "from sklearn import svm\n",
        "from sklearn.ensemble import RandomForestClassifier\n",
        "from sklearn.naive_bayes import MultinomialNB\n",
        "from sklearn.model_selection import GridSearchCV\n",
        "\n",
        "def run_model(model):\n",
        "    print(\"starting to fit\")\n",
        "    fit_model = model.fit(train_feature_set, df_train.ddi_label)\n",
        "    print(\"starting to predict\")\n",
        "    pred_test = fit_model.predict(test_feature_set)\n",
        "    pred_train = fit_model.predict(train_feature_set)\n",
        "\n",
        "    print('accuracy test data: ', accuracy_score(df_test.ddi_label, pred_test))\n",
        "    print('accuracy train data: ', accuracy_score(df_train.ddi_label, pred_train))\n",
        "    print(\"f1 Score:\",f1_score(df_test.ddi_label, pred_test, average=None, pos_label = 1))\n",
        "    \n",
        "    \n",
        "    "
      ],
      "execution_count": 450,
      "outputs": []
    },
    {
      "cell_type": "code",
      "metadata": {
        "colab": {
          "base_uri": "https://localhost:8080/"
        },
        "id": "nSaycq2XcnV0",
        "outputId": "a065d9ce-214b-4a9f-9e95-4b53ef169d84"
      },
      "source": [
        "knn = KNeighborsClassifier(n_neighbors=5)\n",
        "run_model(knn)\n"
      ],
      "execution_count": 451,
      "outputs": [
        {
          "output_type": "stream",
          "text": [
            "starting to fit\n",
            "starting to predict\n",
            "accuracy test data:  0.9052631578947369\n",
            "accuracy train data:  0.9111111111111111\n",
            "f1 Score: [0.94972067 0.18181818]\n"
          ],
          "name": "stdout"
        }
      ]
    }
  ]
}